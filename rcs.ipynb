{
 "cells": [
  {
   "cell_type": "code",
   "execution_count": 8,
   "id": "4b472a93-3f71-4136-9a36-632c39cfcb02",
   "metadata": {},
   "outputs": [],
   "source": [
    "from itertools import product\n",
    "import pandas as pd\n",
    "from mip import Model, xsum, BINARY\n",
    "\n",
    "case = 2\n",
    "resource_sheet = \"surgery_resources{0}\".format(case)\n",
    "jobs_sheet = \"surgery_scen1\"\n"
   ]
  },
  {
   "cell_type": "markdown",
   "id": "b365ad0e-53c9-4ade-8f55-8d478b4d5223",
   "metadata": {},
   "source": [
    "#### Input Data"
   ]
  },
  {
   "cell_type": "code",
   "execution_count": 9,
   "id": "21f5f4eb-9fbe-4f33-9cd1-b681af9912ac",
   "metadata": {},
   "outputs": [
    {
     "name": "stdout",
     "output_type": "stream",
     "text": [
      "        case_id     diagnosis  priority           job_name  \\\n",
      "job_id                                                       \n",
      "0           NaN           NaN         1        dummy_start   \n",
      "1          11.0  hip_fracture         2          bloodtest   \n",
      "2          11.0  hip_fracture         2        hip_surgery   \n",
      "3          23.0    arthiritis         2          bloodtest   \n",
      "4          23.0    arthiritis         2       knee_surgery   \n",
      "5          48.0           NaN         1  breast_transplant   \n",
      "6           NaN           NaN         1          dummy_end   \n",
      "\n",
      "        estimated_duration precedence  SeniorOrthopaedicSurgeon  \\\n",
      "job_id                                                            \n",
      "0                        0        NaN                       NaN   \n",
      "1                        5          0                       NaN   \n",
      "2                       75          1                       1.0   \n",
      "3                        5          0                       NaN   \n",
      "4                      103          3                       1.0   \n",
      "5                       86          0                       NaN   \n",
      "6                        0      2,4,5                       NaN   \n",
      "\n",
      "        ResidentOrthopaedicSurgeon  SeniorCosmeticSurgeon  OrthopaedicNurse  \\\n",
      "job_id                                                                        \n",
      "0                              NaN                    NaN               NaN   \n",
      "1                              NaN                    NaN               NaN   \n",
      "2                              1.0                    NaN               2.0   \n",
      "3                              NaN                    NaN               NaN   \n",
      "4                              2.0                    NaN               1.0   \n",
      "5                              NaN                    1.0               NaN   \n",
      "6                              NaN                    NaN               NaN   \n",
      "\n",
      "        CosmeticNurse  SurgicalTechnician  Anesthesiologist   OperatingRoom  \\\n",
      "job_id                                                                        \n",
      "0                 NaN                 NaN                NaN            NaN   \n",
      "1                 NaN                 NaN                NaN            NaN   \n",
      "2                 NaN                 1.0                1.0            1.0   \n",
      "3                 NaN                 NaN                NaN            NaN   \n",
      "4                 NaN                 2.0                1.0            1.0   \n",
      "5                 2.0                 2.0                1.0            1.0   \n",
      "6                 NaN                 NaN                NaN            NaN   \n",
      "\n",
      "        SurgicalTable  PatientMonitor  NasalCannula  \\\n",
      "job_id                                                \n",
      "0                 NaN             NaN           NaN   \n",
      "1                 NaN             NaN           NaN   \n",
      "2                 1.0             1.0           1.0   \n",
      "3                 NaN             NaN           NaN   \n",
      "4                 1.0             1.0           1.0   \n",
      "5                 1.0             1.0           1.0   \n",
      "6                 NaN             NaN           NaN   \n",
      "\n",
      "        Ceiling-mountedSurgicalLight  SurgicalHeadlight  PhlebotomyTechnician  \n",
      "job_id                                                                         \n",
      "0                                NaN                NaN                   NaN  \n",
      "1                                NaN                NaN                   1.0  \n",
      "2                                1.0                2.0                   NaN  \n",
      "3                                NaN                NaN                   1.0  \n",
      "4                                1.0                3.0                   NaN  \n",
      "5                                1.0                1.0                   NaN  \n",
      "6                                NaN                NaN                   NaN  \n",
      "Number of non-dummy jobs: 5 \n",
      "\n",
      "Job Duration: [0, 5, 75, 5, 103, 86, 0]\n",
      "7 \n",
      "\n",
      "Resource Requirements: [[0, 0, 0, 0, 0, 0, 0, 0, 0, 0, 0, 0, 0, 0], [0, 0, 0, 0, 0, 0, 0, 0, 0, 0, 0, 0, 0, 1], [1, 1, 0, 2, 0, 1, 1, 1, 1, 1, 1, 1, 2, 0], [0, 0, 0, 0, 0, 0, 0, 0, 0, 0, 0, 0, 0, 1], [1, 2, 0, 1, 0, 2, 1, 1, 1, 1, 1, 1, 3, 0], [0, 0, 1, 0, 2, 2, 1, 1, 1, 1, 1, 1, 1, 0], [0, 0, 0, 0, 0, 0, 0, 0, 0, 0, 0, 0, 0, 0]]\n",
      "14 7 \n",
      "\n",
      "\n",
      "Resource Constraints [2, 3, 1, 3, 2, 6, 3, 3, 3, 5, 5, 3, 6, 2]\n",
      "14 \n",
      "\n",
      "Precedence Constraints [[0, 1], [1, 2], [0, 3], [3, 4], [0, 5], [2, 6], [4, 6], [5, 6]]\n",
      "8 \n",
      "\n",
      "range(0, 14) range(0, 7) range(0, 274)\n"
     ]
    }
   ],
   "source": [
    "resource_constraints = pd.read_excel(\n",
    "    \"rcs_data.xlsx\", sheet_name=resource_sheet, engine=\"openpyxl\"\n",
    ")\n",
    "\n",
    "jobs = pd.read_excel(\"rcs_data.xlsx\", sheet_name=jobs_sheet, engine=\"openpyxl\")\n",
    "jobs = jobs.set_index(\"job_id\")\n",
    "print(jobs)\n",
    "\n",
    "# Number of non-dummy jobs\n",
    "n = jobs.shape[0] - 2\n",
    "print(\"Number of non-dummy jobs:\", n, \"\\n\")\n",
    "\n",
    "# Job duration\n",
    "p = jobs[\"estimated_duration\"].astype(int).tolist()\n",
    "p = [int(i) for i in p]\n",
    "print(\"Job Duration:\", p)\n",
    "print(len(p), \"\\n\")\n",
    "\n",
    "\n",
    "# Resource Requirements\n",
    "u = jobs.iloc[:, 6:].fillna(0).values.astype(int).tolist()\n",
    "print(\"Resource Requirements:\", u)\n",
    "print(len(u[0]), len(u), \"\\n\\n\")\n",
    "\n",
    "# Resource Constraints\n",
    "c = resource_constraints[\"total_available\"].tolist()\n",
    "print(\"Resource Constraints\", c)\n",
    "print(len(c), \"\\n\")\n",
    "\n",
    "\n",
    "# Precedence Constraints\n",
    "S = []\n",
    "for i in jobs.index:\n",
    "    if i != 0:\n",
    "        preds = str(jobs.loc[i, \"precedence\"]).split(\",\")\n",
    "        for j in preds:\n",
    "            S.append([int(j), i])\n",
    "print(\"Precedence Constraints\",S)\n",
    "print(len(S),\"\\n\")\n",
    "            \n",
    "(R, J, T) = (range(len(c)), range(len(p)), range(sum(p)))\n",
    "print(R,J,T)"
   ]
  },
  {
   "cell_type": "markdown",
   "id": "4c935361-24cd-488e-8061-c788c339f209",
   "metadata": {},
   "source": [
    "#### Initiate model, add decision variables\n",
    "$x_{jt}$ : job j starts at time t (binary variable 1 or 0)"
   ]
  },
  {
   "cell_type": "code",
   "execution_count": 10,
   "id": "044ceac4-0f4c-4e18-8a95-381fbbb25bb7",
   "metadata": {},
   "outputs": [],
   "source": [
    "model = Model()\n",
    "\n",
    "x = [\n",
    "    [model.add_var(name=\"x({},{})\".format(j, t), var_type=BINARY) for t in T] for j in J\n",
    "]"
   ]
  },
  {
   "cell_type": "markdown",
   "id": "bcda3d68-8c2b-4634-9201-07ae5f42aaaa",
   "metadata": {},
   "source": [
    "#### Constraints"
   ]
  },
  {
   "cell_type": "code",
   "execution_count": 11,
   "id": "008b1a37-cb78-4b45-b8e9-0b288107f235",
   "metadata": {},
   "outputs": [
    {
     "name": "stdout",
     "output_type": "stream",
     "text": [
      "[2, 3, 1, 3, 2, 6, 3, 3, 3, 5, 5, 3, 6, 2]\n"
     ]
    }
   ],
   "source": [
    "# job j can ONLY be completed once, so it can only be assigned to one t\n",
    "for j in J:\n",
    "    model += xsum(x[j][t] for t in T) == 1\n",
    "\n",
    "# For all t, total usage of resource r have to be less than resource constraint\n",
    "# resource usage = # of resource r required for job j    x    assignment of job to time t2\n",
    "# for all the time from (t2 = t - job duration) ===> t, if job j starts at t2 then\n",
    "# the resource usage for that whole period must be less than constraint\n",
    "print(c)\n",
    "for (r, t) in product(R, T):\n",
    "    model += (\n",
    "        xsum(u[j][r] * x[j][t2] for j in J for t2 in range(max(0, t - p[j] + 1), t + 1))\n",
    "        <= c[r]\n",
    "    )\n",
    "\n",
    "## Precedence Constraint, if j precedes s, \n",
    "## then:  time taken to go from job j to job s must be >= processing time job j\n",
    "for (j, s) in S:\n",
    "    model += xsum(t * x[s][t] - t * x[j][t] for t in T) >= p[j]\n"
   ]
  },
  {
   "cell_type": "markdown",
   "id": "4be2ee38-c6f2-4ad6-9211-634fc123c434",
   "metadata": {},
   "source": [
    "#### Define Objective and Solve"
   ]
  },
  {
   "cell_type": "code",
   "execution_count": 5,
   "id": "35cfa512-3b70-417f-b1ee-e8b36ae250d7",
   "metadata": {},
   "outputs": [
    {
     "name": "stdout",
     "output_type": "stream",
     "text": [
      "OptimizationStatus.OPTIMAL\n",
      "Schedule: \n",
      "Job 1: begins at t=0 and finishes at t=5\n",
      "Job 2: begins at t=5 and finishes at t=80\n",
      "Job 3: begins at t=0 and finishes at t=5\n",
      "Job 4: begins at t=5 and finishes at t=108\n",
      "Job 5: begins at t=20 and finishes at t=106\n"
     ]
    }
   ],
   "source": [
    "##### Model Objective can be adjusted.\n",
    "##### Total time to complete all jobs are minimized \n",
    "# # Minimize wait time of preceding/successive events, and makespan, and start job sooner rather than later\n",
    "model.objective = (xsum(t * (x[s][t] - x[j][t])+t * x[n + 1][t]/10 + t/10 * x[j][t] for t in T for (j,s) in S if j !=0 and s != (n+1)))\n",
    "status = model.optimize()\n",
    "print(status)\n",
    "\n",
    "results = {}\n",
    "print(\"Schedule: \")\n",
    "for (j, t) in product(J, T):\n",
    "    if x[j][t].x >= 0.99 and j!=0 and j!=n+1:\n",
    "        results[j] = [t,t+p[j]]\n",
    "        print(\"Job {}: begins at t={} and finishes at t={}\".format(j, t, t + p[j]))"
   ]
  },
  {
   "cell_type": "raw",
   "id": "9ae790b9-1307-4efb-a0fd-06073ed7cc1a",
   "metadata": {},
   "source": [
    "Scen1 \n",
    "Schedule: \n",
    "Job 1: begins at t=0 and finishes at t=5\n",
    "Job 2: begins at t=5 and finishes at t=80\n",
    "Job 3: begins at t=75 and finishes at t=80\n",
    "Job 4: begins at t=80 and finishes at t=183\n",
    "Job 5: begins at t=0 and finishes at t=86"
   ]
  },
  {
   "cell_type": "raw",
   "id": "9d071277-06c7-4e2a-8b9b-3f2b5d2f405d",
   "metadata": {},
   "source": [
    "Scen2  \n",
    "Schedule: \n",
    "Job 1: begins at t=0 and finishes at t=5\n",
    "Job 2: begins at t=5 and finishes at t=80\n",
    "Job 3: begins at t=0 and finishes at t=5\n",
    "Job 4: begins at t=5 and finishes at t=108\n",
    "Job 5: begins at t=0 and finishes at t=86"
   ]
  },
  {
   "cell_type": "code",
   "execution_count": 6,
   "id": "285564da-9e5e-49b1-ae11-463b775790c7",
   "metadata": {},
   "outputs": [
    {
     "name": "stdout",
     "output_type": "stream",
     "text": [
      "1 {'Becky Neunman': 'PhlebotomyTechnician'} \n",
      "\n",
      "2 {'Jaben Forbes': 'SeniorOrthopaedicSurgeon', 'Josiah Ngai': 'ResidentOrthopaedicSurgeon', 'Ruby Miles': 'OrthopaedicNurse', 'Jen Newton': 'OrthopaedicNurse', 'Alicia Keys': 'SurgicalTechnician', 'Julie Watson': 'Anesthesiologist ', 'OperatingRoom #1': 'OperatingRoom', 'SurgicalTable #4': 'SurgicalTable', 'PatientMonitor #7': 'PatientMonitor', 'NasalCannula #12': 'NasalCannula', 'Ceiling-mountedSurgicalLight #17': 'Ceiling-mountedSurgicalLight', 'SurgicalHeadlight #20': 'SurgicalHeadlight', 'SurgicalHeadlight #21': 'SurgicalHeadlight'} \n",
      "\n",
      "3 {'Janett Newton': 'PhlebotomyTechnician'} \n",
      "\n",
      "4 {'Matt Sell': 'SeniorOrthopaedicSurgeon', 'Oliver Clark': 'ResidentOrthopaedicSurgeon', 'Rob Lokhart': 'ResidentOrthopaedicSurgeon', 'Lauren Flutey': 'OrthopaedicNurse', 'Anton Pade': 'SurgicalTechnician', 'Jensen Murdock': 'SurgicalTechnician', 'Ben Davies': 'Anesthesiologist ', 'OperatingRoom #2': 'OperatingRoom', 'SurgicalTable #5': 'SurgicalTable', 'PatientMonitor #8': 'PatientMonitor', 'NasalCannula #13': 'NasalCannula', 'Ceiling-mountedSurgicalLight #18': 'Ceiling-mountedSurgicalLight', 'SurgicalHeadlight #22': 'SurgicalHeadlight', 'SurgicalHeadlight #23': 'SurgicalHeadlight', 'SurgicalHeadlight #24': 'SurgicalHeadlight'} \n",
      "\n",
      "5 {'Jose Hoose': 'SeniorCosmeticSurgeon', 'Scarlette Dowie': 'CosmeticNurse', 'Sophie Ruth': 'CosmeticNurse', 'Ted Sutton': 'SurgicalTechnician', 'Hughie Fletcher': 'SurgicalTechnician', 'Phil Kendon': 'Anesthesiologist ', 'OperatingRoom #3': 'OperatingRoom', 'SurgicalTable #6': 'SurgicalTable', 'PatientMonitor #9': 'PatientMonitor', 'NasalCannula #14': 'NasalCannula', 'Ceiling-mountedSurgicalLight #19': 'Ceiling-mountedSurgicalLight', 'SurgicalHeadlight #25': 'SurgicalHeadlight'} \n",
      "\n"
     ]
    }
   ],
   "source": [
    "pool = pd.read_excel(\n",
    "    \"rcs_data.xlsx\", sheet_name='resource_pool', engine=\"openpyxl\"\n",
    ")\n",
    "\n",
    "\n",
    "assigned = {}\n",
    "scenario = jobs.copy()\n",
    "for r in scenario.index:\n",
    "    if r != 0 and r!=n+1:\n",
    "        temp_pool = pool.copy()\n",
    "        if assigned:\n",
    "            time_overlapped = []\n",
    "            for j in assigned.keys():\n",
    "                timeframe_j = range(results[j][0],results[j][1])\n",
    "                timeframe_r = range(results[r][0],results[r][1])\n",
    "                # Overlap, need to disable those resources that have been assigned\n",
    "                if list(set(timeframe_j) & set(timeframe_r)):\n",
    "                    for key,val in assigned[j].items():\n",
    "                        temp_pool.loc[(temp_pool['resource']==val)&(temp_pool['unique_identification']==key),'resource'] = 'used'\n",
    "                    \n",
    "        a = {}\n",
    "        for c in scenario.iloc[:, 6:].columns:\n",
    "            if scenario.loc[r,c]!=0:\n",
    "                while scenario.loc[r,c]>0:\n",
    "                    p = temp_pool.loc[temp_pool['resource']==c,'unique_identification'].tolist()[0]\n",
    "                    temp_pool.loc[(temp_pool['resource']==c)&(temp_pool['unique_identification']==p),'resource'] = 'used'\n",
    "                    scenario.loc[r,c] -= 1\n",
    "                    a[p] = c \n",
    "        assigned[r]=a\n",
    "for k,v in assigned.items():\n",
    "    print(k,v,\"\\n\")"
   ]
  },
  {
   "cell_type": "code",
   "execution_count": null,
   "id": "1b3aefa0-8e5c-4f07-8047-45c501111817",
   "metadata": {},
   "outputs": [],
   "source": []
  }
 ],
 "metadata": {
  "kernelspec": {
   "display_name": "Python 3 (ipykernel)",
   "language": "python",
   "name": "python3"
  },
  "language_info": {
   "codemirror_mode": {
    "name": "ipython",
    "version": 3
   },
   "file_extension": ".py",
   "mimetype": "text/x-python",
   "name": "python",
   "nbconvert_exporter": "python",
   "pygments_lexer": "ipython3",
   "version": "3.7.8"
  }
 },
 "nbformat": 4,
 "nbformat_minor": 5
}
